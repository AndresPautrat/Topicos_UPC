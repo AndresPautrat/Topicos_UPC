{
  "nbformat": 4,
  "nbformat_minor": 0,
  "metadata": {
    "colab": {
      "name": "Topicos Ortools.ipynb",
      "provenance": [],
      "collapsed_sections": [],
      "authorship_tag": "ABX9TyNYV2ZMpmUMI6psRPJLbztl",
      "include_colab_link": true
    },
    "kernelspec": {
      "name": "python3",
      "display_name": "Python 3"
    }
  },
  "cells": [
    {
      "cell_type": "markdown",
      "metadata": {
        "id": "view-in-github",
        "colab_type": "text"
      },
      "source": [
        "<a href=\"https://colab.research.google.com/github/AndresPautrat/Topicos_UPC/blob/main/ortools_Bases1.ipynb\" target=\"_parent\"><img src=\"https://colab.research.google.com/assets/colab-badge.svg\" alt=\"Open In Colab\"/></a>"
      ]
    },
    {
      "cell_type": "code",
      "metadata": {
        "id": "cE_FG5dOvotg"
      },
      "source": [
        "import random\n",
        "def generarDataset(i,t,d):\n",
        "  dataset=[]\n",
        "  for y in range(t):\n",
        "    transaction=[]\n",
        "    for x in range(i):\n",
        "      if random.random()<=d:\n",
        "        transaction+=[1]\n",
        "      else:\n",
        "        transaction+=[0]\n",
        "    dataset+=[transaction]\n",
        "  return dataset"
      ],
      "execution_count": null,
      "outputs": []
    },
    {
      "cell_type": "code",
      "metadata": {
        "id": "UR5D_r7Hwko9"
      },
      "source": [
        "ni=5\n",
        "nt=10\n",
        "nd=0.05\n",
        "dataset=generarDataset(ni,nt,nd)"
      ],
      "execution_count": null,
      "outputs": []
    },
    {
      "cell_type": "code",
      "metadata": {
        "id": "3WVyr-RfwqYp",
        "colab": {
          "base_uri": "https://localhost:8080/",
          "height": 343
        },
        "outputId": "c1de40a2-a8e6-47d0-f4bd-8751de46447c"
      },
      "source": [
        "!pip install ortools"
      ],
      "execution_count": null,
      "outputs": [
        {
          "output_type": "stream",
          "text": [
            "Collecting ortools\n",
            "\u001b[?25l  Downloading https://files.pythonhosted.org/packages/1c/d5/c4382df6b6b978971f11287552f5c0acc54ea7bf8ce70a9c77d8a06531b2/ortools-7.6.7691-cp36-cp36m-manylinux1_x86_64.whl (28.9MB)\n",
            "\u001b[K     |████████████████████████████████| 28.9MB 148kB/s \n",
            "\u001b[?25hCollecting protobuf>=3.11.2\n",
            "\u001b[?25l  Downloading https://files.pythonhosted.org/packages/57/02/5432412c162989260fab61fa65e0a490c1872739eb91a659896e4d554b26/protobuf-3.11.3-cp36-cp36m-manylinux1_x86_64.whl (1.3MB)\n",
            "\u001b[K     |████████████████████████████████| 1.3MB 49.4MB/s \n",
            "\u001b[?25hRequirement already satisfied: six>=1.10 in /usr/local/lib/python3.6/dist-packages (from ortools) (1.12.0)\n",
            "Requirement already satisfied: setuptools in /usr/local/lib/python3.6/dist-packages (from protobuf>=3.11.2->ortools) (46.1.3)\n",
            "Installing collected packages: protobuf, ortools\n",
            "  Found existing installation: protobuf 3.10.0\n",
            "    Uninstalling protobuf-3.10.0:\n",
            "      Successfully uninstalled protobuf-3.10.0\n",
            "Successfully installed ortools-7.6.7691 protobuf-3.11.3\n"
          ],
          "name": "stdout"
        },
        {
          "output_type": "display_data",
          "data": {
            "application/vnd.colab-display-data+json": {
              "pip_warning": {
                "packages": [
                  "google"
                ]
              }
            }
          },
          "metadata": {
            "tags": []
          }
        }
      ]
    },
    {
      "cell_type": "code",
      "metadata": {
        "id": "6IpeJ7EZyLns"
      },
      "source": [
        "from ortools.sat.python import cp_model"
      ],
      "execution_count": null,
      "outputs": []
    },
    {
      "cell_type": "code",
      "metadata": {
        "id": "zkgE60Ejx5FB"
      },
      "source": [
        "class VarArraySolutionPrinter(cp_model.CpSolverSolutionCallback):\n",
        "    \"\"\"Print intermediate solutions.\"\"\"\n",
        "\n",
        "    def __init__(self, variables):\n",
        "        cp_model.CpSolverSolutionCallback.__init__(self)\n",
        "        self.__variables = variables\n",
        "        self.__solution_count = 0\n",
        "\n",
        "    def on_solution_callback(self):\n",
        "        self.__solution_count += 1\n",
        "        for v in self.__variables:\n",
        "            print('%s=%i' % (v, self.Value(v)), end=' ')\n",
        "        print()\n",
        "\n",
        "    def solution_count(self):\n",
        "        return self.__solution_count"
      ],
      "execution_count": null,
      "outputs": []
    },
    {
      "cell_type": "code",
      "metadata": {
        "id": "m-XgxilNyIE4",
        "colab": {
          "base_uri": "https://localhost:8080/",
          "height": 35
        },
        "outputId": "85f13071-5e4c-4b47-ab37-fc5155cd1ae4"
      },
      "source": [
        "model=cp_model.CpModel()\n",
        "#variables and domains\n",
        "items=[model.NewBoolVar(\"it\"+str(i))for i in range(ni)]\n",
        "trans=[model.NewBoolVar(\"tr\"+str(i))for i in range(nt)]\n",
        "freq=model.NewIntVar(0,nt,\"freq\")\n",
        "print(items,trans)"
      ],
      "execution_count": null,
      "outputs": [
        {
          "output_type": "stream",
          "text": [
            "[it0(0..1), it1(0..1), it2(0..1), it3(0..1), it4(0..1)] [tr0(0..1), tr1(0..1), tr2(0..1), tr3(0..1), tr4(0..1), tr5(0..1), tr6(0..1), tr7(0..1), tr8(0..1), tr9(0..1)]\n"
          ],
          "name": "stdout"
        }
      ]
    },
    {
      "cell_type": "code",
      "metadata": {
        "id": "W7fUZtEizhlq",
        "colab": {
          "base_uri": "https://localhost:8080/",
          "height": 54
        },
        "outputId": "8c3ffe99-2d41-4c6c-acbd-cdcc127aa238"
      },
      "source": [
        "for t in range(nt):\n",
        "  model.Add(sum([items[i]*(1-dataset[t][i]) for i in range(ni)])==0).OnlyEnforceIf(trans[t])\n",
        "  model.Add(sum([items[i]*(1-dataset[t][i]) for i in range(ni)])>0).OnlyEnforceIf(trans[t].Not())\n",
        "model.Add(freq==sum(trans))\n",
        "model.Add(freq>=5)\n",
        "\n",
        "solver=cp_model.CpSolver()\n",
        "solution_printer=VarArraySolutionPrinter(items+[freq])\n",
        "solver.SearchForAllSolutions(model,solution_printer)\n",
        "\n",
        "print(solution_printer.solution_count(),\"Itemsets\")"
      ],
      "execution_count": null,
      "outputs": [
        {
          "output_type": "stream",
          "text": [
            "it0=0 it1=0 it2=0 it3=0 it4=0 freq=10 \n",
            "1 Itemsets\n"
          ],
          "name": "stdout"
        }
      ]
    },
    {
      "cell_type": "code",
      "metadata": {
        "id": "7W3OAR_o3Bph"
      },
      "source": [
        ""
      ],
      "execution_count": null,
      "outputs": []
    }
  ]
}