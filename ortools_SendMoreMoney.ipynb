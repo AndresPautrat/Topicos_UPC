{
  "nbformat": 4,
  "nbformat_minor": 0,
  "metadata": {
    "colab": {
      "name": "TopicosOrtools.ipynb",
      "provenance": [],
      "collapsed_sections": [],
      "authorship_tag": "ABX9TyOSKciiSlmMpuA2ig2wHTvD",
      "include_colab_link": true
    },
    "kernelspec": {
      "name": "python3",
      "display_name": "Python 3"
    }
  },
  "cells": [
    {
      "cell_type": "markdown",
      "metadata": {
        "id": "view-in-github",
        "colab_type": "text"
      },
      "source": [
        "<a href=\"https://colab.research.google.com/github/AndresPautrat/Topicos_UPC/blob/main/ortools_SendMoreMoney.ipynb\" target=\"_parent\"><img src=\"https://colab.research.google.com/assets/colab-badge.svg\" alt=\"Open In Colab\"/></a>"
      ]
    },
    {
      "cell_type": "code",
      "metadata": {
        "id": "cscBqEFAni7S",
        "colab": {
          "base_uri": "https://localhost:8080/",
          "height": 355
        },
        "outputId": "4c3da922-9f0d-4db3-c919-41a2dcc472ef"
      },
      "source": [
        "pip install ortools"
      ],
      "execution_count": null,
      "outputs": [
        {
          "output_type": "stream",
          "text": [
            "Collecting ortools\n",
            "\u001b[?25l  Downloading https://files.pythonhosted.org/packages/db/8f/7c099bcedd55df8f215ba42b50fd4db6fa5de69bb5b14a0586871683edcd/ortools-7.5.7466-cp36-cp36m-manylinux1_x86_64.whl (27.9MB)\n",
            "\u001b[K     |████████████████████████████████| 27.9MB 131kB/s \n",
            "\u001b[?25hRequirement already satisfied: six>=1.10 in /usr/local/lib/python3.6/dist-packages (from ortools) (1.12.0)\n",
            "Collecting protobuf>=3.11.2\n",
            "\u001b[?25l  Downloading https://files.pythonhosted.org/packages/57/02/5432412c162989260fab61fa65e0a490c1872739eb91a659896e4d554b26/protobuf-3.11.3-cp36-cp36m-manylinux1_x86_64.whl (1.3MB)\n",
            "\u001b[K     |████████████████████████████████| 1.3MB 35.5MB/s \n",
            "\u001b[?25hRequirement already satisfied: setuptools in /usr/local/lib/python3.6/dist-packages (from protobuf>=3.11.2->ortools) (46.1.3)\n",
            "Installing collected packages: protobuf, ortools\n",
            "  Found existing installation: protobuf 3.10.0\n",
            "    Uninstalling protobuf-3.10.0:\n",
            "      Successfully uninstalled protobuf-3.10.0\n",
            "Successfully installed ortools-7.5.7466 protobuf-3.11.3\n"
          ],
          "name": "stdout"
        },
        {
          "output_type": "display_data",
          "data": {
            "application/vnd.colab-display-data+json": {
              "pip_warning": {
                "packages": [
                  "google"
                ]
              }
            }
          },
          "metadata": {
            "tags": []
          }
        }
      ]
    },
    {
      "cell_type": "code",
      "metadata": {
        "id": "R3TdR1Hunlnm"
      },
      "source": [
        "from ortools.sat.python import cp_model"
      ],
      "execution_count": null,
      "outputs": []
    },
    {
      "cell_type": "code",
      "metadata": {
        "id": "P-SNvGfOqN-m"
      },
      "source": [
        "model=cp_model.CpModel()"
      ],
      "execution_count": null,
      "outputs": []
    },
    {
      "cell_type": "code",
      "metadata": {
        "id": "zb_qXm_jqREC",
        "colab": {
          "base_uri": "https://localhost:8080/",
          "height": 34
        },
        "outputId": "dbffcdf2-b02d-423f-c94a-6002e10cb9a7"
      },
      "source": [
        "# Creates the variables: X, D \n",
        "num_vals = 3\n",
        "x = model.NewIntVar(0, num_vals - 1, 'x')\n",
        "y = model.NewIntVar(0, num_vals - 1, 'y')\n",
        "z = model.NewIntVar(0, num_vals - 1, 'z')\n",
        "# Adds an different constraint: C\n",
        "model.Add(x != y)"
      ],
      "execution_count": null,
      "outputs": [
        {
          "output_type": "execute_result",
          "data": {
            "text/plain": [
              "<ortools.sat.python.cp_model.Constraint at 0x7fe11c0197b8>"
            ]
          },
          "metadata": {
            "tags": []
          },
          "execution_count": 5
        }
      ]
    },
    {
      "cell_type": "code",
      "metadata": {
        "id": "PE70vpOdqsFg",
        "colab": {
          "base_uri": "https://localhost:8080/",
          "height": 70
        },
        "outputId": "4da594bc-dd99-4b38-e81b-fffad83711ba"
      },
      "source": [
        "solver = cp_model.CpSolver()\n",
        "# Sets a time limit of 10 seconds.\n",
        "solver.parameters.max_time_in_seconds = 10.0\n",
        "\n",
        "status = solver.Solve(model)\n",
        "\n",
        "if status == cp_model.FEASIBLE:\n",
        "  print('x = %i' % solver.Value(x))\n",
        "  print('y = %i' % solver.Value(y))\n",
        "  print('z = %i' % solver.Value(z))"
      ],
      "execution_count": null,
      "outputs": [
        {
          "output_type": "stream",
          "text": [
            "x = 1\n",
            "y = 2\n",
            "z = 0\n"
          ],
          "name": "stdout"
        }
      ]
    },
    {
      "cell_type": "code",
      "metadata": {
        "id": "wXkJujqtrQqJ",
        "colab": {
          "base_uri": "https://localhost:8080/",
          "height": 1000
        },
        "outputId": "b5f2ef6d-838b-47aa-95b4-da342cb6aed2"
      },
      "source": [
        "#s,e,n,d,m,o,r,y\n",
        "#Brute force\n",
        "for s in range(0,10):\n",
        "  for e in range(0,10):\n",
        "    for n in range(0,10):\n",
        "      for d in range(0,10):\n",
        "        for m in range(0,10):\n",
        "          for o in range(0,10):\n",
        "            for r in range(0,10):\n",
        "              for y in range(0,10):\n",
        "                l=[s,e,n,d,m,o,r,y]\n",
        "                x=set(l)\n",
        "                if len(l)==len(x) and (1000*(s+m)+100*(e+o)+10*(n+r)+d+e==10000*m+1000*o+100*n+10*e+y):\n",
        "                  print(s,e,n,d)\n",
        "                  print(m,o,r,e)\n",
        "                  print()\n"
      ],
      "execution_count": null,
      "outputs": [
        {
          "output_type": "stream",
          "text": [
            "2 8 1 7\n",
            "0 3 6 8\n",
            "\n",
            "2 8 1 9\n",
            "0 3 6 8\n",
            "\n",
            "3 7 1 2\n",
            "0 4 6 7\n",
            "\n",
            "3 7 1 9\n",
            "0 4 5 7\n",
            "\n",
            "3 8 2 1\n",
            "0 4 6 8\n",
            "\n",
            "3 8 2 9\n",
            "0 4 5 8\n",
            "\n",
            "5 7 3 1\n",
            "0 6 4 7\n",
            "\n",
            "5 7 3 2\n",
            "0 6 4 7\n",
            "\n",
            "5 8 4 9\n",
            "0 6 3 8\n",
            "\n",
            "6 4 1 5\n",
            "0 7 3 4\n",
            "\n",
            "6 4 1 9\n",
            "0 7 2 4\n",
            "\n",
            "6 5 2 4\n",
            "0 7 3 5\n",
            "\n",
            "6 8 5 1\n",
            "0 7 3 8\n",
            "\n",
            "6 8 5 3\n",
            "0 7 2 8\n",
            "\n",
            "7 3 1 6\n",
            "0 8 2 3\n",
            "\n",
            "7 4 2 9\n",
            "0 8 1 4\n",
            "\n",
            "7 5 3 1\n",
            "0 8 2 5\n",
            "\n",
            "7 5 3 4\n",
            "0 8 2 5\n",
            "\n",
            "7 5 3 9\n",
            "0 8 1 5\n",
            "\n",
            "7 6 4 3\n",
            "0 8 2 6\n",
            "\n",
            "7 6 4 9\n",
            "0 8 1 6\n",
            "\n",
            "8 3 2 4\n",
            "0 9 1 3\n",
            "\n",
            "8 4 3 2\n",
            "0 9 1 4\n",
            "\n",
            "8 5 4 2\n",
            "0 9 1 5\n",
            "\n",
            "9 5 6 7\n",
            "1 0 8 5\n",
            "\n"
          ],
          "name": "stdout"
        }
      ]
    },
    {
      "cell_type": "code",
      "metadata": {
        "id": "M5Zex89iuKYs"
      },
      "source": [
        "def validarColumna(a,b,x,y,z):\n",
        "  if z == -1 or x==-1 or ==-1:\n",
        "    return True;\n",
        "  elif: a==-1 or b==-1:\n",
        "    return ((x+y)%10==z)or(1+(x+y)%10==z)\n",
        "  else:\n",
        "    return (a+b)//10+(x+y)%10==z\n",
        "def isvalid(variables,indice,valor):\n",
        "  v=variables[:]\n",
        "  v[indice]=valor\n",
        "  s,e,n,d,m,o,r,y=v[1],v[2],v[3],v[4],v[5],v[6],v[7]\n",
        "  if(indice==0): #variable S\n",
        "    if(valor==0):\n",
        "      return False;\n",
        "    else:\n",
        "      return validarColumna(e,o,s,m,o)\n",
        "  elif indice==1:\n",
        "    return validarColumna(n,r,e,o,n) and validarColumna(d,e,n,r,e) and validarColumna(0,0,d,e,y)\n",
        "  elif indice ==2:\n",
        "    return validarColumna(n,r,e,o,n) and validarColumna(d,e,n,r,e)\n",
        "  elif indice ==3:\n",
        "    return validarColumna(0,0,,d,e,y)\n",
        "  elif  indice ==4\n",
        "    return validar\n",
        "\n",
        "\n",
        "def cryptogramBT(variables,indice):\n",
        "  if indice<8:\n",
        "    for valor in range(0,10):\n",
        "      if(isValid(variables,indice,valor)):\n",
        "        variables[indice]=valor\n",
        "        cryptogramBT(variables,indices+1)\n",
        "        variables[indice]=-1\n",
        "\n",
        "  else:\n",
        "    s,e,n,d,m,o,r,y=variables[0],variables[1],variables[2],variables[3],variables[4],variables[5],variables[6],variables[7]\n",
        "    print(' ',s,e,n,d,'+')\n",
        "    print(\" \",m,o,r,e)\n",
        "    print(\"---------\")\n",
        "    print(m,o,n,e,y)"
      ],
      "execution_count": null,
      "outputs": []
    },
    {
      "cell_type": "code",
      "metadata": {
        "id": "qU-ZCWvV4qsn",
        "colab": {
          "base_uri": "https://localhost:8080/",
          "height": 34
        },
        "outputId": "2737e049-e275-4a39-808e-7524c5cc7f69"
      },
      "source": [
        "from ortools.sat.python import cp_model\n",
        "model=cp_model.CpModel()\n",
        "\n",
        "s=model.NewIntVar(1,9,'s')\n",
        "e=model.NewIntVar(0,9,'e')\n",
        "n=model.NewIntVar(0,9,'n')\n",
        "d=model.NewIntVar(0,9,'d')\n",
        "m=model.NewIntVar(1,1,'m')\n",
        "o=model.NewIntVar(0,9,'o')\n",
        "r=model.NewIntVar(0,9,'r')\n",
        "y=model.NewIntVar(0,9,'y')\n",
        "\n",
        "v=[s,e,n,d,m,o,r,y]\n",
        "#Constraints\n",
        "model.Add(1000 *(s+m)+100*(e+o)+10*(n+r)+d+e==10000*m+1000*o+100*n+10*e+y)\n",
        "model.AddAllDifferent(v)"
      ],
      "execution_count": null,
      "outputs": [
        {
          "output_type": "execute_result",
          "data": {
            "text/plain": [
              "<ortools.sat.python.cp_model.Constraint at 0x7f452b985160>"
            ]
          },
          "metadata": {
            "tags": []
          },
          "execution_count": 12
        }
      ]
    },
    {
      "cell_type": "code",
      "metadata": {
        "id": "mbJGyeVJ6Aov",
        "colab": {
          "base_uri": "https://localhost:8080/",
          "height": 87
        },
        "outputId": "0ce066db-c8ad-41e3-f6c0-2673165075a7"
      },
      "source": [
        "solver=cp_model.CpSolver()\n",
        "status=solver.Solve(model)\n",
        "\n",
        "if status==cp_model.FEASIBLE:\n",
        "  s,e,n,d,m,o,r,y=solver.Value(s),solver.Value(e),solver.Value(n),solver.Value(d),solver.Value(m),solver.Value(o),solver.Value(r),solver.Value(y)\n",
        "  print(' ',s,e,n,d,'+')\n",
        "  print(\" \",m,o,r,e)\n",
        "  print(\"---------\")\n",
        "  print(m,o,n,e,y)"
      ],
      "execution_count": null,
      "outputs": [
        {
          "output_type": "stream",
          "text": [
            "  9 5 6 7 +\n",
            "  1 0 8 5\n",
            "---------\n",
            "1 0 6 5 2\n"
          ],
          "name": "stdout"
        }
      ]
    },
    {
      "cell_type": "code",
      "metadata": {
        "id": "5OiXqMIt8_jp",
        "colab": {
          "base_uri": "https://localhost:8080/",
          "height": 87
        },
        "outputId": "0b64ff41-7f7c-46a0-de67-c9739c01cf89"
      },
      "source": [
        "def LatinSquareBF(n):\n",
        "  g=[[0]*n for i in range(1,n+1)]\n",
        "  print(g)\n",
        "  for i in range(0,n):\n",
        "    for j in range(0,n ):\n",
        "      c=[]\n",
        "      for l in range(0,n):\n",
        "        c+=[g[i][l]]\n",
        "      for k in range(1,n+1):\n",
        "        if k not in g[i] and k not in c:\n",
        "          g[i][j]=k\n",
        "          break\n",
        "  [print(g[i])for i in range(n)]\n",
        "LatinSquareBF(3)"
      ],
      "execution_count": null,
      "outputs": [
        {
          "output_type": "stream",
          "text": [
            "[[0, 0, 0], [0, 0, 0], [0, 0, 0]]\n",
            "[1, 2, 3]\n",
            "[1, 2, 3]\n",
            "[1, 2, 3]\n"
          ],
          "name": "stdout"
        }
      ]
    },
    {
      "cell_type": "code",
      "metadata": {
        "id": "EZbw4EmE9iij"
      },
      "source": [
        "from ortools.sat.python import cp_model\n",
        "\n",
        "model1=cp_model.CpModel()\n",
        "\n",
        "n=4\n",
        "\n",
        "grilla=[]\n",
        "for i in range(n):\n",
        "  fila=[]\n",
        "  for j in range(n):\n",
        "    fila+=[model1.NewIntVar(1,n,'x'+str(i)+str(j))]\n",
        "  grilla+=[fila]\n",
        "\n",
        "#grilla=[[model1.NewIntVar(1,n,'s')]*n for i in range(n)]\n",
        "\n",
        "for i in range(n):\n",
        "  model1.AddAllDifferent(grilla[i])\n",
        "for i in range(n):\n",
        "  c=[]\n",
        "  for j in range(n):\n",
        "    c+=[grilla[j][i]]\n",
        "  model1.AddAllDifferent(c)"
      ],
      "execution_count": null,
      "outputs": []
    },
    {
      "cell_type": "code",
      "metadata": {
        "id": "AeaExUAZB6vM",
        "colab": {
          "base_uri": "https://localhost:8080/",
          "height": 87
        },
        "outputId": "d67be67a-9258-484e-9a24-7973fe9e885b"
      },
      "source": [
        "solver=cp_model.CpSolver()\n",
        "status=solver.Solve(model1)\n",
        "\n",
        "if status==cp_model.FEASIBLE:\n",
        "  for i in range(n):\n",
        "    for j in range(n):\n",
        "      print(solver.Value(grilla[i][j]),end=\" \")\n",
        "    print()"
      ],
      "execution_count": null,
      "outputs": [
        {
          "output_type": "stream",
          "text": [
            "1 2 3 4 \n",
            "2 1 4 3 \n",
            "3 4 1 2 \n",
            "4 3 2 1 \n"
          ],
          "name": "stdout"
        }
      ]
    },
    {
      "cell_type": "code",
      "metadata": {
        "id": "nqTvNblZDirx"
      },
      "source": [
        "from ortools.sat.python import cp_model\n",
        "\n",
        "model2=cp_model.CpModel()\n",
        "\n",
        "n=3\n",
        "grilla=[]\n",
        "for i in range(n):\n",
        "  fila=[]\n",
        "  for j in range(n):\n",
        "    fila+=[model2.NewIntVar(1,n,'x'+str(i)+str(j))]\n",
        "  grilla+=[fila]\n",
        "\n",
        "grillaDif=[]\n",
        "for i in range(n):\n",
        "  grillaDif+=grilla[i]\n",
        "model2.AddAllDifferent(grillaDif)\n",
        "\n",
        "for i in range(n):\n",
        "  model2.Add(sum(grilla[i])==15)\n",
        "for i in range(n):\n",
        "  c=[]\n",
        "  for j in range(n):\n",
        "    c+=[grilla[j][i]]\n",
        "  model1.Add(sum(c)==15)"
      ],
      "execution_count": null,
      "outputs": []
    },
    {
      "cell_type": "code",
      "metadata": {
        "id": "1U-ZX6LQFiWh"
      },
      "source": [
        "solver=cp_model.CpSolver()\n",
        "status=solver.Solve(model2)\n",
        "\n",
        "if status==cp_model.FEASIBLE:\n",
        "  for i in range(n):\n",
        "    for j in range(n):\n",
        "      print(solver.Value(grilla[i][j]),end=\" \")\n",
        "    print()"
      ],
      "execution_count": null,
      "outputs": []
    },
    {
      "cell_type": "code",
      "metadata": {
        "id": "49xF29bQGDLw"
      },
      "source": [
        ""
      ],
      "execution_count": null,
      "outputs": []
    }
  ]
}