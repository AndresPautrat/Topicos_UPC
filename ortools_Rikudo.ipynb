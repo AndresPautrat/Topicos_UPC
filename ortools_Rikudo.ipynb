{
  "nbformat": 4,
  "nbformat_minor": 0,
  "metadata": {
    "kernelspec": {
      "display_name": "Python 3",
      "language": "python",
      "name": "python3"
    },
    "language_info": {
      "codemirror_mode": {
        "name": "ipython",
        "version": 3
      },
      "file_extension": ".py",
      "mimetype": "text/x-python",
      "name": "python",
      "nbconvert_exporter": "python",
      "pygments_lexer": "ipython3",
      "version": "3.7.6"
    },
    "colab": {
      "name": "Rikudo_1.ipynb",
      "provenance": [],
      "include_colab_link": true
    }
  },
  "cells": [
    {
      "cell_type": "markdown",
      "metadata": {
        "id": "view-in-github",
        "colab_type": "text"
      },
      "source": [
        "<a href=\"https://colab.research.google.com/github/AndresPautrat/Topicos_UPC/blob/main/ortools_Rikudo.ipynb\" target=\"_parent\"><img src=\"https://colab.research.google.com/assets/colab-badge.svg\" alt=\"Open In Colab\"/></a>"
      ]
    },
    {
      "cell_type": "markdown",
      "metadata": {
        "id": "hbVXQQlw5uEp"
      },
      "source": [
        "# Solver de Rikudo"
      ]
    },
    {
      "cell_type": "markdown",
      "metadata": {
        "id": "hdi_a2105uEq"
      },
      "source": [
        "## Inicialización"
      ]
    },
    {
      "cell_type": "code",
      "metadata": {
        "id": "m1ahn_yb8Jhb",
        "colab": {
          "base_uri": "https://localhost:8080/",
          "height": 320
        },
        "outputId": "86eae132-78a9-402a-f89b-14ffe901717e"
      },
      "source": [
        "pip install ortools"
      ],
      "execution_count": null,
      "outputs": [
        {
          "output_type": "stream",
          "text": [
            "Collecting ortools\n",
            "\u001b[?25l  Downloading https://files.pythonhosted.org/packages/1c/d5/c4382df6b6b978971f11287552f5c0acc54ea7bf8ce70a9c77d8a06531b2/ortools-7.6.7691-cp36-cp36m-manylinux1_x86_64.whl (28.9MB)\n",
            "\u001b[K     |████████████████████████████████| 28.9MB 138kB/s \n",
            "\u001b[?25hRequirement already satisfied: six>=1.10 in /usr/local/lib/python3.6/dist-packages (from ortools) (1.12.0)\n",
            "Collecting protobuf>=3.11.2\n",
            "\u001b[?25l  Downloading https://files.pythonhosted.org/packages/57/02/5432412c162989260fab61fa65e0a490c1872739eb91a659896e4d554b26/protobuf-3.11.3-cp36-cp36m-manylinux1_x86_64.whl (1.3MB)\n",
            "\u001b[K     |████████████████████████████████| 1.3MB 18.4MB/s \n",
            "\u001b[?25hRequirement already satisfied: setuptools in /usr/local/lib/python3.6/dist-packages (from protobuf>=3.11.2->ortools) (46.1.3)\n",
            "Installing collected packages: protobuf, ortools\n",
            "  Found existing installation: protobuf 3.10.0\n",
            "    Uninstalling protobuf-3.10.0:\n",
            "      Successfully uninstalled protobuf-3.10.0\n",
            "Successfully installed ortools-7.6.7691 protobuf-3.11.3\n"
          ],
          "name": "stdout"
        },
        {
          "output_type": "display_data",
          "data": {
            "application/vnd.colab-display-data+json": {
              "pip_warning": {
                "packages": [
                  "google"
                ]
              }
            }
          },
          "metadata": {
            "tags": []
          }
        }
      ]
    },
    {
      "cell_type": "code",
      "metadata": {
        "id": "W0qpwm0e5uEr"
      },
      "source": [
        "from ortools.sat.python import cp_model\n",
        "import numpy as np\n",
        "import os\n",
        "import psutil\n",
        "import string\n",
        "import time\n",
        "import matplotlib\n",
        "import numpy as np\n",
        "import matplotlib.pyplot as plt\\\n",
        "\n",
        "class VarArraySolutionPrinter(cp_model.CpSolverSolutionCallback):\n",
        "    def __init__(self, variables):\n",
        "        cp_model.CpSolverSolutionCallback.__init__(self)\n",
        "        self.__variables = variables\n",
        "        self.__solution_count = 0\n",
        "\n",
        "    def on_solution_callback(self):\n",
        "        self.__solution_count += 1\n",
        "        for v in self.__variables:\n",
        "            print('%s=%i' % (v, self.Value(v)), end=' ')\n",
        "        print()\n",
        "\n",
        "    def solution_count(self):\n",
        "        return self.__solution_count"
      ],
      "execution_count": null,
      "outputs": []
    },
    {
      "cell_type": "markdown",
      "metadata": {
        "id": "uF81e-NS5uE2"
      },
      "source": [
        "## Creación de Grilla Original\n"
      ]
    },
    {
      "cell_type": "markdown",
      "metadata": {
        "id": "ZyNskZHh5uE3"
      },
      "source": [
        "##### Pesos"
      ]
    },
    {
      "cell_type": "code",
      "metadata": {
        "id": "LfXsjgUe5uE5"
      },
      "source": [
        "ruta = \"wRikudo.txt\"\n",
        "def insertar(ruta, m):\n",
        "    f = open(ruta,\"r\")\n",
        "    vals = f.readline().strip().split(\",\")\n",
        "    for w in vals:\n",
        "        m.append(int(w))\n",
        "    return\n",
        "\n",
        "grilla = []\n",
        "insertar(ruta,grilla)"
      ],
      "execution_count": null,
      "outputs": []
    },
    {
      "cell_type": "markdown",
      "metadata": {
        "id": "mJUjxynR5uE-"
      },
      "source": [
        "##### Vecinos"
      ]
    },
    {
      "cell_type": "code",
      "metadata": {
        "id": "x85vYluO5uFB"
      },
      "source": [
        "file1 = open('vRikudo.txt','r') \n",
        "n = 36\n",
        "grilla_vecinos = []\n",
        "i = []\n",
        "for line in file1:\n",
        "    #print(line)\n",
        "    items = line.split(',')\n",
        "    for item in items:\n",
        "        i.append(int(item))\n",
        "    #print(i)\n",
        "    grilla_vecinos.append(i)\n",
        "    i = []"
      ],
      "execution_count": null,
      "outputs": []
    },
    {
      "cell_type": "markdown",
      "metadata": {
        "id": "8BczbHH45uFI"
      },
      "source": [
        "##### Vínculos"
      ]
    },
    {
      "cell_type": "code",
      "metadata": {
        "id": "pBv0rU9T5uFJ"
      },
      "source": [
        "aux = grilla_vecinos.copy()\n",
        "file1 = open('lRikudo.txt','r') \n",
        "for line in file1:\n",
        "    items = line.strip().split(':')\n",
        "    grilla_vecinos[int(items[0]) - 1] = [int(items[1])]\n",
        "    grilla_vecinos[int(items[1]) - 1] = [int(items[0])]"
      ],
      "execution_count": null,
      "outputs": []
    },
    {
      "cell_type": "markdown",
      "metadata": {
        "id": "62VZelp25uFM"
      },
      "source": [
        "##### Resultados"
      ]
    },
    {
      "cell_type": "code",
      "metadata": {
        "id": "2oH1rTNJ8T3b"
      },
      "source": [
        "grilla=[-1, 10, 13, -1, -1, 8, -1, -1, 15, -1, -1, -1, 18, -1, 33, -1, -1, 21, -1, -1, -1, 4, -1, -1, 36, -1, -1, 1, 24, -1, 28, -1, -1, -1, -1, -1]\n",
        "aux=[[2, 5, 6], [1, 3, 6, 7], [2, 4, 7, 8], [3, 8, 9], [1, 6, 10, 11], [1, 2, 5, 7, 11, 12], [2, 3, 6, 8, 12, 13], [3, 4, 7, 9, 13, 14], [4, 8, 14, 15], [5, 11, 16, 17], [5, 6, 10, 12, 17, 18], [6, 7, 11, 13, 18], [7, 8, 12, 14, 19], [8, 9, 13, 15, 19, 20], [9, 14, 20, 21], [10, 17, 22], [10, 11, 16, 18, 22, 23], [11, 12, 17, 23, 24], [13, 14, 20, 25, 26], [14, 15, 19, 21, 26, 27], [15, 20, 27], [16, 17, 23, 28], [17, 18, 22, 24, 28, 29], [18, 23, 25, 29, 30], [19, 24, 26, 30, 31], [19, 20, 25, 27, 31, 32], [20, 21, 26, 32], [22, 23, 29, 33], [23, 24, 28, 30, 33, 34], [24, 25, 29, 31, 34, 35], [25, 26, 30, 32, 35, 36], [26, 27, 31, 36], [28, 29, 34], [29, 30, 33, 35], [30, 31, 34, 36], [31, 32, 35]]\n",
        "grilla_vecinos=[[2, 5, 6], [1, 3, 6, 7], [2, 4, 7, 8], [3, 8, 9], [1, 6, 10, 11], [1, 2, 5, 7, 11, 12], [2, 3, 6, 8, 12, 13], [3, 4, 7, 9, 13, 14], [4, 8, 14, 15], [5, 11, 16, 17], [5, 6, 10, 12, 17, 18], [6, 7, 11, 13, 18], [7, 8, 12, 14, 19], [19], [9, 14, 20, 21], [10, 17, 22], [10, 11, 16, 18, 22, 23], [11, 12, 17, 23, 24], [14], [14, 15, 19, 21, 26, 27], [15, 20, 27], [16, 17, 23, 28], [17, 18, 22, 24, 28, 29], [30], [19, 24, 26, 30, 31], [19, 20, 25, 27, 31, 32], [20, 21, 26, 32], [22, 23, 29, 33], [23, 24, 28, 30, 33, 34], [24], [25, 26, 30, 32, 35, 36], [26, 27, 31, 36], [34], [33], [30, 31, 34, 36], [31, 32, 35]]"
      ],
      "execution_count": null,
      "outputs": []
    },
    {
      "cell_type": "code",
      "metadata": {
        "id": "G2-4qRCe5uFN",
        "colab": {
          "base_uri": "https://localhost:8080/",
          "height": 171
        },
        "outputId": "740d7bdb-51fe-4e20-9b27-24db46bd1e21"
      },
      "source": [
        "print(\"Valores por defecto\")\n",
        "print(grilla)\n",
        "print(\"------------------------------\")\n",
        "print(\"Vecinos por defecto\")\n",
        "print(aux)\n",
        "print(\"------------------------------\")\n",
        "print(\"Vecinos procesados\")\n",
        "print(grilla_vecinos)"
      ],
      "execution_count": null,
      "outputs": [
        {
          "output_type": "stream",
          "text": [
            "Valores por defecto\n",
            "[-1, 10, 13, -1, -1, 8, -1, -1, 15, -1, -1, -1, 18, -1, 33, -1, -1, 21, -1, -1, -1, 4, -1, -1, 36, -1, -1, 1, 24, -1, 28, -1, -1, -1, -1, -1]\n",
            "------------------------------\n",
            "Vecinos por defecto\n",
            "[[2, 5, 6], [1, 3, 6, 7], [2, 4, 7, 8], [3, 8, 9], [1, 6, 10, 11], [1, 2, 5, 7, 11, 12], [2, 3, 6, 8, 12, 13], [3, 4, 7, 9, 13, 14], [4, 8, 14, 15], [5, 11, 16, 17], [5, 6, 10, 12, 17, 18], [6, 7, 11, 13, 18], [7, 8, 12, 14, 19], [8, 9, 13, 15, 19, 20], [9, 14, 20, 21], [10, 17, 22], [10, 11, 16, 18, 22, 23], [11, 12, 17, 23, 24], [13, 14, 20, 25, 26], [14, 15, 19, 21, 26, 27], [15, 20, 27], [16, 17, 23, 28], [17, 18, 22, 24, 28, 29], [18, 23, 25, 29, 30], [19, 24, 26, 30, 31], [19, 20, 25, 27, 31, 32], [20, 21, 26, 32], [22, 23, 29, 33], [23, 24, 28, 30, 33, 34], [24, 25, 29, 31, 34, 35], [25, 26, 30, 32, 35, 36], [26, 27, 31, 36], [28, 29, 34], [29, 30, 33, 35], [30, 31, 34, 36], [31, 32, 35]]\n",
            "------------------------------\n",
            "Vecinos procesados\n",
            "[[2, 5, 6], [1, 3, 6, 7], [2, 4, 7, 8], [3, 8, 9], [1, 6, 10, 11], [1, 2, 5, 7, 11, 12], [2, 3, 6, 8, 12, 13], [3, 4, 7, 9, 13, 14], [4, 8, 14, 15], [5, 11, 16, 17], [5, 6, 10, 12, 17, 18], [6, 7, 11, 13, 18], [7, 8, 12, 14, 19], [19], [9, 14, 20, 21], [10, 17, 22], [10, 11, 16, 18, 22, 23], [11, 12, 17, 23, 24], [14], [14, 15, 19, 21, 26, 27], [15, 20, 27], [16, 17, 23, 28], [17, 18, 22, 24, 28, 29], [30], [19, 24, 26, 30, 31], [19, 20, 25, 27, 31, 32], [20, 21, 26, 32], [22, 23, 29, 33], [23, 24, 28, 30, 33, 34], [24], [25, 26, 30, 32, 35, 36], [26, 27, 31, 36], [34], [33], [30, 31, 34, 36], [31, 32, 35]]\n"
          ],
          "name": "stdout"
        }
      ]
    },
    {
      "cell_type": "markdown",
      "metadata": {
        "id": "pUXdgx4C5uFY"
      },
      "source": [
        "## Variables, Dominios, Constraints"
      ]
    },
    {
      "cell_type": "code",
      "metadata": {
        "id": "3Nyd4pRV5uFY",
        "colab": {
          "base_uri": "https://localhost:8080/",
          "height": 34
        },
        "outputId": "dd38999b-5fa0-49f3-aefc-8c58fcf45a69"
      },
      "source": [
        "model = cp_model.CpModel()\n",
        "#Variables y Dominios\n",
        "# vecinos = [model.NewIntVar(1,num_vals,\"it\" + str(i)) for i in range (num_vals)]\n",
        "pesos = [model.NewIntVar(1,36,\"it\" + str(i+1)) for i in range (36)]\n",
        "b1 = model.NewBoolVar('b1')\n",
        "b2 = model.NewBoolVar('b2')\n",
        "\n",
        "boolPesos=[]\n",
        "for i in range (36):\n",
        "  bools=[]\n",
        "  for j in range (len(grilla_vecinos[i])):\n",
        "    bools+=[model.NewBoolVar(\"bool\" + str(i)+str(j))]\n",
        "  boolPesos+=[bools]\n",
        "\n",
        "\n",
        "# C O N S T R A I N T S\n",
        "#Regla Todos los valores distintos\n",
        "model.AddAllDifferent(pesos)\n",
        "# Regla para Valores Iniciales\n",
        "for i in range(len(grilla_vecinos)):\n",
        "    if(grilla[i] != -1):\n",
        "        model.Add(pesos[i] == grilla[i])\n",
        "\n",
        "counter = 0\n",
        "\n",
        "#Regla Vecinos\n",
        "for v1 in range(36):\n",
        "    for v2 in grilla_vecinos[v1]:\n",
        "        model.Add(pesos[v1]+1 == pesos[v2]).OnlyEnforceIf(boolPesos[i,j])\n",
        "        model.Add(pesos[v1] == pesos[v2-1]+1).OnlyEnforceIf(b2)\n",
        "        model.AddBoolOr([b1, b2])\n",
        "\n",
        "\n",
        "solver = cp_model.CpSolver()\n",
        "status = solver.Solve(model)\n",
        "output = []\n",
        "if status == cp_model.FEASIBLE:\n",
        "    print(\"Se pudo\")\n",
        "    for i in range(36):\n",
        "        print(\"Celda \",i+1,\":\", end=\" \")\n",
        "        print(solver.Value(pesos[i]))\n",
        "        output.append(solver.Value(pesos[i]))\n",
        "else:\n",
        "    print(\"F\")"
      ],
      "execution_count": null,
      "outputs": [
        {
          "output_type": "stream",
          "text": [
            "F\n"
          ],
          "name": "stdout"
        }
      ]
    },
    {
      "cell_type": "code",
      "metadata": {
        "id": "O7TLvj7z-pcy",
        "colab": {
          "base_uri": "https://localhost:8080/",
          "height": 622
        },
        "outputId": "4dd1736f-1268-4f54-d6d6-3c7dd05b6ba7"
      },
      "source": [
        ""
      ],
      "execution_count": null,
      "outputs": [
        {
          "output_type": "stream",
          "text": [
            "0\n",
            "1\n",
            "2\n",
            "3\n",
            "4\n",
            "5\n",
            "6\n",
            "7\n",
            "8\n",
            "9\n",
            "10\n",
            "11\n",
            "12\n",
            "13\n",
            "14\n",
            "15\n",
            "16\n",
            "17\n",
            "18\n",
            "19\n",
            "20\n",
            "21\n",
            "22\n",
            "23\n",
            "24\n",
            "25\n",
            "26\n",
            "27\n",
            "28\n",
            "29\n",
            "30\n",
            "31\n",
            "32\n",
            "33\n",
            "34\n",
            "35\n"
          ],
          "name": "stdout"
        }
      ]
    },
    {
      "cell_type": "code",
      "metadata": {
        "id": "GCUL5Chx-awm"
      },
      "source": [
        "model = cp_model.CpModel()\n",
        "#Variables y Dominios\n",
        "# vecinos = [model.NewIntVar(1,num_vals,\"it\" + str(i)) for i in range (num_vals)]\n",
        "pesos = [model.NewIntVar(1,36,\"it\" + str(i+1)) for i in range (36)]\n",
        "b1 = model.NewBoolVar('b1')\n",
        "b2 = model.NewBoolVar('b2')\n",
        "\n",
        "boolPesos = [model.NewBoolVar(\"bool\" + str(i+1)) for i in range (36)]\n",
        "\n",
        "\n",
        "# C O N S T R A I N T S\n",
        "#Regla Todos los valores distintos\n",
        "model.AddAllDifferent(pesos)\n",
        "# Regla para Valores Iniciales\n",
        "for i in range(len(grilla_vecinos)):\n",
        "    if(grilla[i] != -1):\n",
        "        model.Add(pesos[i] == grilla[i])\n",
        "\n",
        "counter = 0\n",
        "\n",
        "#Regla Vecinos\n",
        "for v1 in range(36):\n",
        "    for v2 in grilla_vecinos[v1-1]:\n",
        "        if(boolPesos[v1] == false):\n",
        "            model.Add((pesos[v1]+1) == pesos[v2-1]).OnlyEnforceIf(b1)\n",
        "            model.Add(pesos[v1] == pesos[v2-1]+1).OnlyEnforceIf(b2)\n",
        "            model.AddBoolOr([b1, b2])\n",
        "            counter = c\n",
        "        else:\n",
        "            break\n",
        "solver = cp_model.CpSolver()\n",
        "status = solver.Solve(model)\n",
        "output = []\n",
        "if status == cp_model.FEASIBLE:\n",
        "    print(\"Se pudo\")\n",
        "    for i in range(36):\n",
        "        print(\"Celda \",i+1,\":\", end=\" \")\n",
        "        print(solver.Value(pesos[i]))\n",
        "        output.append(solver.Value(pesos[i]))\n",
        "else:\n",
        "    print(\"F\")"
      ],
      "execution_count": null,
      "outputs": []
    },
    {
      "cell_type": "code",
      "metadata": {
        "id": "owAKNkKg5uFd"
      },
      "source": [
        "f = open(\"output.txt\",\"w\")\n",
        "for i in range(36):\n",
        "    f.write(str(output[i]))\n",
        "    if i != 35:\n",
        "        f.write(\",\")\n",
        "f.close()"
      ],
      "execution_count": null,
      "outputs": []
    },
    {
      "cell_type": "code",
      "metadata": {
        "id": "x71Ndhw05uFl"
      },
      "source": [
        ""
      ],
      "execution_count": null,
      "outputs": []
    }
  ]
}