{
  "nbformat": 4,
  "nbformat_minor": 0,
  "metadata": {
    "colab": {
      "name": "Untitled10.ipynb",
      "provenance": [],
      "authorship_tag": "ABX9TyPtL466eqtlfWV9GkGSbKfy",
      "include_colab_link": true
    },
    "kernelspec": {
      "name": "python3",
      "display_name": "Python 3"
    }
  },
  "cells": [
    {
      "cell_type": "markdown",
      "metadata": {
        "id": "view-in-github",
        "colab_type": "text"
      },
      "source": [
        "<a href=\"https://colab.research.google.com/github/AndresPautrat/Topicos_UPC/blob/main/Politicas_movimiento.ipynb\" target=\"_parent\"><img src=\"https://colab.research.google.com/assets/colab-badge.svg\" alt=\"Open In Colab\"/></a>"
      ]
    },
    {
      "cell_type": "code",
      "metadata": {
        "id": "TzM4-7TWAMk4",
        "colab": {
          "base_uri": "https://localhost:8080/",
          "height": 51
        },
        "outputId": "29a26c3e-c0bc-482c-f2ae-1dc937cc2259"
      },
      "source": [
        "import matplotlib.pyplot as plt\n",
        "import numpy as np\n",
        "import seaborn as sns"
      ],
      "execution_count": null,
      "outputs": [
        {
          "output_type": "stream",
          "text": [
            "/usr/local/lib/python3.6/dist-packages/statsmodels/tools/_testing.py:19: FutureWarning: pandas.util.testing is deprecated. Use the functions in the public API at pandas.testing instead.\n",
            "  import pandas.util.testing as tm\n"
          ],
          "name": "stderr"
        }
      ]
    },
    {
      "cell_type": "code",
      "metadata": {
        "id": "3gj4cc1LANOh"
      },
      "source": [
        "class MDP:    \n",
        "    \"0: up, 1: right, 2: left, 3: down\"\n",
        "    _transitions = np.array([\n",
        "        [[4, 0.8], [-1, 0.1], [1, 0.1]],\n",
        "        [[1, 0.8], [-4, 0.1], [4, 0.1]],\n",
        "        [[-1, 0.8], [-4, 0.1], [4, 0.1]],\n",
        "        [[-4, 0.8], [-1, 0.1], [1, 0.1]]\n",
        "        ])\n",
        "    \n",
        "    def __init__(self, gamma=0.9):\n",
        "        self.reward = np.zeros(3*4)\n",
        "        self.reward[-1] = +1\n",
        "        self.reward[5] = -1\n",
        "        self.reward[7] = -1\n",
        "        self.gamma = gamma\n",
        "        \n",
        "    def rewards(self, state):\n",
        "        \"\"\"\n",
        "        To be completed\n",
        "        \"\"\"\n",
        "        return(self.reward[state])\n",
        "    \n",
        "    def _bounces(self, state, s):\n",
        "        \"\"\"\n",
        "        To be completed\n",
        "        \"\"\"\n",
        "        return np.sum(\n",
        "            np.abs(np.array(np.where(np.arange(12).reshape(3,4))==state)-\n",
        "                   np.array(np.where(np.arange(12).reshape(3,4))==s)\n",
        "            )\n",
        "        )\n",
        "    \n",
        "    def transition(self, state, action):\n",
        "        \"\"\"\n",
        "        To be completed\n",
        "        \"\"\"\n",
        "        if(state==7 or state==11):\n",
        "          return np.zeros()\n",
        "        trans=-MDP.transitons[action].copy()\n",
        "        trans=trans.T\n",
        "        trans[0,:]+=state\n",
        "        trans=trans.T\n",
        "        for i,(s,uti) in enumerate(trans):\n",
        "          if(s<0 or s>12 or s==5 or self._bounces()):\n",
        "            trans[i,0]=state\n",
        "        return trans"
      ],
      "execution_count": null,
      "outputs": []
    },
    {
      "cell_type": "code",
      "metadata": {
        "id": "SkRZcMbTAPDw"
      },
      "source": [
        "def print_utilities(utilities):\n",
        "    plt.figure()\n",
        "    reshaped = utilities.reshape((3,4))\n",
        "    reshaped[1,1] = -1\n",
        "    ax = sns.heatmap(reshaped, annot=True)\n",
        "    ax.invert_yaxis()"
      ],
      "execution_count": null,
      "outputs": []
    },
    {
      "cell_type": "code",
      "metadata": {
        "id": "1d8o-W3UHau8",
        "colab": {
          "base_uri": "https://localhost:8080/",
          "height": 269
        },
        "outputId": "b86a34c7-346d-4991-c411-fb9c4bc891cf"
      },
      "source": [
        "mdp = MDP()\n",
        "\n",
        "utilities = np.array([0.5,0.4,0.3,0.,0.5,-1.,0.5,-1.,0.6,0.7,0.8,1])\n",
        "print_utilities(utilities)"
      ],
      "execution_count": null,
      "outputs": [
        {
          "output_type": "display_data",
          "data": {
            "image/png": "[encoded data removed]",
            "text/plain": [
              "<Figure size 432x288 with 2 Axes>"
            ]
          },
          "metadata": {
            "tags": [],
            "needs_background": "light"
          }
        }
      ]
    },
    {
      "cell_type": "code",
      "metadata": {
        "id": "ohXvpn3hHiNl"
      },
      "source": [
        "def q(mdp, state, action, utilities):\n",
        "  trans = mdp.transition(state, action)\n",
        "  return np.sum(utilities[trans.T[0].astype(int)] * trans.T[1])\n",
        "\n",
        "def value_iteration(mdp, utilities):\n",
        "  utilities_new = np.zeros(len(utilities))\n",
        "  n = 0\n",
        "  delta = np.inf\n",
        "  while delta > 1e-10: #pow(1,-10)\n",
        "    for state in range(len(utilities)):\n",
        "      utilities_new[state] = mdp.rewards(state) + mdp.gamma * np.max([q(mdp,state, a, utilities) for a in range(4)]) #Bellman equation\n",
        "    delta = np.max(np.abs(utilities - utilities_new))\n",
        "    utilities = utilities_new.copy()\n",
        "    n += 1\n",
        "  print(n)\n",
        "  return utilities"
      ],
      "execution_count": null,
      "outputs": []
    },
    {
      "cell_type": "code",
      "metadata": {
        "id": "x2vxSk3BPB8k"
      },
      "source": [
        "def extract_policy(position, qtable):\n",
        "  qtable = qtable.reshape((3,4))\n",
        "  policy = []\n",
        "  path = [position]\n",
        "  while not(position[0] == 2 and position[1] == 3):\n",
        "    neigborhood = []\n",
        "    if position[0] > 0:\n",
        "      neigborhood += [(\"down\",qtable[position[0] - 1, position[1]])]\n",
        "    if position[0] < 2:\n",
        "      neigborhood += [(\"up\",qtable[position[0] + 1, position[1]])]\n",
        "    if position[1] > 0:\n",
        "      neigborhood += [(\"left\",qtable[position[0], position[1] - 1])]\n",
        "    if position[1] < 3:\n",
        "      neigborhood += [(\"right\",qtable[position[0], position[1] + 1])]\n",
        "    #print(neigborhood,end=\"\\t->\\t\")\n",
        "    action = [n[0] for n in neigborhood if n[1] == max([n1[1] for n1 in neigborhood])][0]\n",
        "    #print(action,end=\"\\t->\\t\")\n",
        "    if action == \"down\":\n",
        "      position = (position[0] - 1, position[1])\n",
        "    if action == \"up\":\n",
        "      position = (position[0] + 1, position[1])\n",
        "    if action == \"left\":\n",
        "      position = (position[0], position[1] - 1)\n",
        "    if action == \"right\":\n",
        "      position = (position[0], position[1] + 1)\n",
        "    #print(position)\n",
        "    policy += [action]\n",
        "    path += [position]\n",
        "  return policy,path"
      ],
      "execution_count": null,
      "outputs": []
    },
    {
      "cell_type": "code",
      "metadata": {
        "id": "3S9h1L9qQRyH",
        "colab": {
          "base_uri": "https://localhost:8080/",
          "height": 231
        },
        "outputId": "4214d103-ae1c-4992-ec85-32a56ebcb9a5"
      },
      "source": [
        "po,pa = extract_policy((0,0), optimal)\n",
        "print(po)\n",
        "print(pa)\n",
        "\n",
        "opt = np.zeros(12).reshape((3,4))\n",
        "\n",
        "for x in pa:\n",
        "  opt[x[0],x[1]] = 1\n",
        "\n",
        "print_utilities(opt)"
      ],
      "execution_count": null,
      "outputs": [
        {
          "output_type": "error",
          "ename": "NameError",
          "evalue": "ignored",
          "traceback": [
            "\u001b[0;31m---------------------------------------------------------------------------\u001b[0m",
            "\u001b[0;31mNameError\u001b[0m                                 Traceback (most recent call last)",
            "\u001b[0;32m<ipython-input-8-5e8f8cf0cbbc>\u001b[0m in \u001b[0;36m<module>\u001b[0;34m()\u001b[0m\n\u001b[0;32m----> 1\u001b[0;31m \u001b[0mpo\u001b[0m\u001b[0;34m,\u001b[0m\u001b[0mpa\u001b[0m \u001b[0;34m=\u001b[0m \u001b[0mextract_policy\u001b[0m\u001b[0;34m(\u001b[0m\u001b[0;34m(\u001b[0m\u001b[0;36m0\u001b[0m\u001b[0;34m,\u001b[0m\u001b[0;36m0\u001b[0m\u001b[0;34m)\u001b[0m\u001b[0;34m,\u001b[0m \u001b[0moptimal\u001b[0m\u001b[0;34m)\u001b[0m\u001b[0;34m\u001b[0m\u001b[0;34m\u001b[0m\u001b[0m\n\u001b[0m\u001b[1;32m      2\u001b[0m \u001b[0mprint\u001b[0m\u001b[0;34m(\u001b[0m\u001b[0mpo\u001b[0m\u001b[0;34m)\u001b[0m\u001b[0;34m\u001b[0m\u001b[0;34m\u001b[0m\u001b[0m\n\u001b[1;32m      3\u001b[0m \u001b[0mprint\u001b[0m\u001b[0;34m(\u001b[0m\u001b[0mpa\u001b[0m\u001b[0;34m)\u001b[0m\u001b[0;34m\u001b[0m\u001b[0;34m\u001b[0m\u001b[0m\n\u001b[1;32m      4\u001b[0m \u001b[0;34m\u001b[0m\u001b[0m\n\u001b[1;32m      5\u001b[0m \u001b[0mopt\u001b[0m \u001b[0;34m=\u001b[0m \u001b[0mnp\u001b[0m\u001b[0;34m.\u001b[0m\u001b[0mzeros\u001b[0m\u001b[0;34m(\u001b[0m\u001b[0;36m12\u001b[0m\u001b[0;34m)\u001b[0m\u001b[0;34m.\u001b[0m\u001b[0mreshape\u001b[0m\u001b[0;34m(\u001b[0m\u001b[0;34m(\u001b[0m\u001b[0;36m3\u001b[0m\u001b[0;34m,\u001b[0m\u001b[0;36m4\u001b[0m\u001b[0;34m)\u001b[0m\u001b[0;34m)\u001b[0m\u001b[0;34m\u001b[0m\u001b[0;34m\u001b[0m\u001b[0m\n",
            "\u001b[0;31mNameError\u001b[0m: name 'optimal' is not defined"
          ]
        }
      ]
    },
    {
      "cell_type": "code",
      "metadata": {
        "id": "MB5CgjooVi4S"
      },
      "source": [
        ""
      ],
      "execution_count": null,
      "outputs": []
    }
  ]
}