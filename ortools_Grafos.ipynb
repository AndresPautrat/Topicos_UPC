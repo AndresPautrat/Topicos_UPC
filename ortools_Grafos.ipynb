{
  "nbformat": 4,
  "nbformat_minor": 0,
  "metadata": {
    "colab": {
      "name": "ML ortools.ipynb",
      "provenance": [],
      "collapsed_sections": [],
      "authorship_tag": "ABX9TyOGed6ag+rPn7ilDRWqCVnv",
      "include_colab_link": true
    },
    "kernelspec": {
      "name": "python3",
      "display_name": "Python 3"
    }
  },
  "cells": [
    {
      "cell_type": "markdown",
      "metadata": {
        "id": "view-in-github",
        "colab_type": "text"
      },
      "source": [
        "<a href=\"https://colab.research.google.com/github/AndresPautrat/Topicos_UPC/blob/main/ortools_Grafos.ipynb\" target=\"_parent\"><img src=\"https://colab.research.google.com/assets/colab-badge.svg\" alt=\"Open In Colab\"/></a>"
      ]
    },
    {
      "cell_type": "code",
      "metadata": {
        "id": "9b0ly0YM3nET",
        "colab": {
          "base_uri": "https://localhost:8080/",
          "height": 355
        },
        "outputId": "301d833d-8717-4ea2-c5ac-0ab4b89d35e6"
      },
      "source": [
        "pip install ortools"
      ],
      "execution_count": null,
      "outputs": [
        {
          "output_type": "stream",
          "text": [
            "Collecting ortools\n",
            "\u001b[?25l  Downloading https://files.pythonhosted.org/packages/db/8f/7c099bcedd55df8f215ba42b50fd4db6fa5de69bb5b14a0586871683edcd/ortools-7.5.7466-cp36-cp36m-manylinux1_x86_64.whl (27.9MB)\n",
            "\u001b[K     |████████████████████████████████| 27.9MB 146kB/s \n",
            "\u001b[?25hRequirement already satisfied: six>=1.10 in /usr/local/lib/python3.6/dist-packages (from ortools) (1.12.0)\n",
            "Collecting protobuf>=3.11.2\n",
            "\u001b[?25l  Downloading https://files.pythonhosted.org/packages/57/02/5432412c162989260fab61fa65e0a490c1872739eb91a659896e4d554b26/protobuf-3.11.3-cp36-cp36m-manylinux1_x86_64.whl (1.3MB)\n",
            "\u001b[K     |████████████████████████████████| 1.3MB 43.5MB/s \n",
            "\u001b[?25hRequirement already satisfied: setuptools in /usr/local/lib/python3.6/dist-packages (from protobuf>=3.11.2->ortools) (46.1.3)\n",
            "Installing collected packages: protobuf, ortools\n",
            "  Found existing installation: protobuf 3.10.0\n",
            "    Uninstalling protobuf-3.10.0:\n",
            "      Successfully uninstalled protobuf-3.10.0\n",
            "Successfully installed ortools-7.5.7466 protobuf-3.11.3\n"
          ],
          "name": "stdout"
        },
        {
          "output_type": "display_data",
          "data": {
            "application/vnd.colab-display-data+json": {
              "pip_warning": {
                "packages": [
                  "google"
                ]
              }
            }
          },
          "metadata": {
            "tags": []
          }
        }
      ]
    },
    {
      "cell_type": "code",
      "metadata": {
        "id": "f2VK7lFL3_hZ",
        "colab": {
          "base_uri": "https://localhost:8080/",
          "height": 34
        },
        "outputId": "be5cc3b2-99a2-4419-ee80-5bd16e531bf1"
      },
      "source": [
        "from random import *\n",
        "def generarGrafo(n,m):\n",
        "  graf=[[]for i in range(n)]\n",
        "  for i in range(m):\n",
        "    v1=randint(0,n-1)\n",
        "    v2=randint(0,n-1)\n",
        "    while (v2 in graf[v1]) or (v1==v2):\n",
        "      v1=randint(0,n-1)\n",
        "      v2=randint(0,n-1)\n",
        "    graf[v1]+=[v2]\n",
        "  return graf\n",
        "\n",
        "gr=generarGrafo(5,10)\n",
        "gr"
      ],
      "execution_count": null,
      "outputs": [
        {
          "output_type": "execute_result",
          "data": {
            "text/plain": [
              "[[2], [4], [3, 0, 4, 1], [4, 1], [0, 2]]"
            ]
          },
          "metadata": {
            "tags": []
          },
          "execution_count": 65
        }
      ]
    },
    {
      "cell_type": "code",
      "metadata": {
        "id": "d7BQQncj4qFp",
        "colab": {
          "base_uri": "https://localhost:8080/",
          "height": 34
        },
        "outputId": "f6da8487-5a80-4103-d806-34b260462f45"
      },
      "source": [
        "from ortools.sat.python import cp_model\n",
        "model=cp_model.CpModel()\n",
        "\n",
        "\n",
        "color=[]\n",
        "for i in range(len(gr)):\n",
        "  color+=[model.NewIntVar(1,3,\"color\"+str(i))]\n",
        "\n",
        "for b1 in range(len(gr)):\n",
        "  for b2 in gr[b1]:\n",
        "    model.Add(color[b1]!=color[b2])\n",
        "print(color)"
      ],
      "execution_count": null,
      "outputs": [
        {
          "output_type": "stream",
          "text": [
            "[color0(1..3), color1(1..3), color2(1..3), color3(1..3), color4(1..3)]\n"
          ],
          "name": "stdout"
        }
      ]
    },
    {
      "cell_type": "code",
      "metadata": {
        "id": "iicGx-CQ6Jg4",
        "colab": {
          "base_uri": "https://localhost:8080/",
          "height": 34
        },
        "outputId": "f54cf561-4b72-45e1-9668-f53630f438a7"
      },
      "source": [
        "solver=cp_model.CpSolver()\n",
        "status=solver.Solve(model)\n",
        "if(status==cp_model.FEASIBLE):\n",
        "  for n1 in range(len(gr)):\n",
        "    print(\"Nodo\",n1,\"de color\", solver.Value(color[n1]))\n",
        "else:\n",
        "  print(\"hi\")"
      ],
      "execution_count": null,
      "outputs": [
        {
          "output_type": "stream",
          "text": [
            "hi\n"
          ],
          "name": "stdout"
        }
      ]
    },
    {
      "cell_type": "code",
      "metadata": {
        "id": "jTXaKosi65bA"
      },
      "source": [
        "grafo=[[1,2,4,5],[0,5,6],[0,4,5,6],[6],[0,2,5],[0,1,2,4,6],[1,2,3,5]]\n",
        "\n",
        "model2=cp_model.CpModel()\n",
        "\n",
        "valor=[]\n",
        "for i in range(7):\n",
        "  valor+=[model2.NewIntVar(1,7,\"valor\"+str(i))]\n",
        "\n",
        "  l=[]\n",
        "\n",
        "for v in grafo[0]:\n",
        "  l+=[valor[v]]\n",
        "model.Add(sum(l)==20)\n",
        "\n",
        "solver2=cp_model.CpSolver()\n",
        "status2=solver2.Solve(model2)\n",
        "if(statu==cp_model.FEASIBLE):\n",
        "  for v in range(7):\n",
        "    print(\"Nodo\",v,\"de valor\",solver2.Value(valor[v]))"
      ],
      "execution_count": null,
      "outputs": []
    },
    {
      "cell_type": "code",
      "metadata": {
        "id": "CubLyT1yCgp_"
      },
      "source": [
        ""
      ],
      "execution_count": null,
      "outputs": []
    }
  ]
}