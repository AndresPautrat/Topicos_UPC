{
  "nbformat": 4,
  "nbformat_minor": 0,
  "metadata": {
    "kernelspec": {
      "display_name": "Python 3",
      "language": "python",
      "name": "python3"
    },
    "language_info": {
      "codemirror_mode": {
        "name": "ipython",
        "version": 3
      },
      "file_extension": ".py",
      "mimetype": "text/x-python",
      "name": "python",
      "nbconvert_exporter": "python",
      "pygments_lexer": "ipython3",
      "version": "3.7.6"
    },
    "colab": {
      "name": "Constraint_programing.ipynb",
      "provenance": [],
      "include_colab_link": true
    }
  },
  "cells": [
    {
      "cell_type": "markdown",
      "metadata": {
        "id": "view-in-github",
        "colab_type": "text"
      },
      "source": [
        "<a href=\"https://colab.research.google.com/github/AndresPautrat/Topicos_UPC/blob/main/ConstraintPrograming1.ipynb\" target=\"_parent\"><img src=\"https://colab.research.google.com/assets/colab-badge.svg\" alt=\"Open In Colab\"/></a>"
      ]
    },
    {
      "cell_type": "code",
      "metadata": {
        "id": "s_nOAV8M_nHM",
        "outputId": "7773ac6b-6933-4a72-8086-b556a749f968"
      },
      "source": [
        "!pip install ortools"
      ],
      "execution_count": null,
      "outputs": [
        {
          "output_type": "stream",
          "text": [
            "Collecting ortools\n",
            "  Downloading ortools-7.5.7466-cp37-cp37m-win_amd64.whl (25.0 MB)\n",
            "Requirement already satisfied: six>=1.10 in c:\\users\\renzo\\anaconda3\\lib\\site-packages (from ortools) (1.14.0)\n",
            "Collecting protobuf>=3.11.2\n",
            "  Downloading protobuf-3.11.3-cp37-cp37m-win_amd64.whl (1.0 MB)\n",
            "Requirement already satisfied: setuptools in c:\\users\\renzo\\anaconda3\\lib\\site-packages (from protobuf>=3.11.2->ortools) (45.2.0.post20200210)\n",
            "Installing collected packages: protobuf, ortools\n",
            "Successfully installed ortools-7.5.7466 protobuf-3.11.3\n"
          ],
          "name": "stdout"
        }
      ]
    },
    {
      "cell_type": "markdown",
      "metadata": {
        "id": "l_lGXT5b_nHR"
      },
      "source": [
        "# Ejemplo"
      ]
    },
    {
      "cell_type": "code",
      "metadata": {
        "id": "_fTjZ3gz_nHS"
      },
      "source": [
        "from ortools.sat.python import cp_model"
      ],
      "execution_count": null,
      "outputs": []
    },
    {
      "cell_type": "code",
      "metadata": {
        "id": "U68mqfaU_nHV"
      },
      "source": [
        "model = cp_model.CpModel()"
      ],
      "execution_count": null,
      "outputs": []
    },
    {
      "cell_type": "code",
      "metadata": {
        "id": "MjMFOHtT_nHY",
        "outputId": "870c8bb4-b977-401b-d02a-412f64c14bac"
      },
      "source": [
        "num_vals=3\n",
        "\n",
        "x = model.NewIntVar(0,num_vals-1,'x')\n",
        "y = model.NewIntVar(0,num_vals-1,'y')\n",
        "z = model.NewIntVar(0,num_vals-1,'z')\n",
        "\n",
        "#model.AddAllDifferent()\n",
        "model.Add(x!=y)"
      ],
      "execution_count": null,
      "outputs": [
        {
          "output_type": "execute_result",
          "data": {
            "text/plain": [
              "<ortools.sat.python.cp_model.Constraint at 0x1f2f2942408>"
            ]
          },
          "metadata": {
            "tags": []
          },
          "execution_count": 13
        }
      ]
    },
    {
      "cell_type": "code",
      "metadata": {
        "id": "uaSmtqyi_nHb",
        "outputId": "ccc0ec2c-e796-4026-f94e-7ba8db2f7195"
      },
      "source": [
        "solver = cp_model.CpSolver()\n",
        "# Sets a time limit of 10 seconds.\n",
        "# solver.parameters.max_time_in_seconds = 10.0\n",
        "\n",
        "status = solver.Solve(model)\n",
        "\n",
        "if status == cp_model.FEASIBLE:\n",
        "    print('x = %i' % solver.Value(x))\n",
        "    print('y = %i' % solver.Value(y))\n",
        "    print('z = %i' % solver.Value(z))"
      ],
      "execution_count": null,
      "outputs": [
        {
          "output_type": "stream",
          "text": [
            "x = 0\n",
            "y = 2\n",
            "z = 0\n"
          ],
          "name": "stdout"
        }
      ]
    },
    {
      "cell_type": "markdown",
      "metadata": {
        "id": "pfkoft9M_nHi"
      },
      "source": [
        "# Ejercicio 1"
      ]
    },
    {
      "cell_type": "code",
      "metadata": {
        "id": "tl9KHkhD_nHk",
        "outputId": "5d13d559-4d20-4395-8bc5-a428fee89161"
      },
      "source": [
        "num_vals = 9\n",
        "s = model.NewIntVar(1,num_vals,'s')\n",
        "e = model.NewIntVar(0,num_vals,'e')\n",
        "n = model.NewIntVar(0,num_vals,'n')\n",
        "d = model.NewIntVar(0,num_vals,'d')\n",
        "m = model.NewIntVar(1,num_vals,'m')\n",
        "o = model.NewIntVar(0,num_vals,'o')\n",
        "r = model.NewIntVar(0,num_vals,'r')\n",
        "y = model.NewIntVar(0,num_vals,'y')\n",
        "letters = [s,e,n,d,m,o,r,y]\n",
        "model.AddAllDifferent(letters)\n",
        "model.Add(1000*(s+m)+100*(e+o)+10*(n+r)+(d+e) == 10000*m + 1000*o+ n*100 + e*10 +y)"
      ],
      "execution_count": null,
      "outputs": [
        {
          "output_type": "execute_result",
          "data": {
            "text/plain": [
              "<ortools.sat.python.cp_model.Constraint at 0x1f2f3c91c48>"
            ]
          },
          "metadata": {
            "tags": []
          },
          "execution_count": 26
        }
      ]
    },
    {
      "cell_type": "code",
      "metadata": {
        "id": "QV99L3wN_nHm",
        "outputId": "37a821a5-bebf-411d-e6a5-c4c10f827ef9"
      },
      "source": [
        "solver = cp_model.CpSolver() #crea el solver\n",
        "status = solver.Solve(model) # para encontrar solucion\n",
        "s,e,n,d,m,o,r,y =solver.Value(s),solver.Value(e),solver.Value(n),solver.Value(d),solver.Value(m),solver.Value(o),solver.Value(r),solver.Value(y)\n",
        "if status == cp_model.FEASIBLE:\n",
        "    print(s,e,n,d)\n",
        "    print(m,o,r,e)\n",
        "    print(m,o,n,e,y)"
      ],
      "execution_count": null,
      "outputs": [
        {
          "output_type": "stream",
          "text": [
            "9 5 6 7\n",
            "1 0 8 5\n",
            "1 0 6 5 2\n"
          ],
          "name": "stdout"
        }
      ]
    },
    {
      "cell_type": "markdown",
      "metadata": {
        "id": "2EnePfxu_nHq"
      },
      "source": [
        "# Ejercicio 2"
      ]
    },
    {
      "cell_type": "code",
      "metadata": {
        "id": "94RD_4___nHq"
      },
      "source": [
        "n = 5\n",
        "grid = []\n",
        "for i in range(n):\n",
        "    row = []\n",
        "    for j in range(n):\n",
        "        row.append(model.NewIntVar(1,n,'x'+str(i)+str(j)))\n",
        "    grid.append(row)\n",
        "\n",
        "for i in range(n):\n",
        "    model.AddAllDifferent(grid[i])\n",
        "    \n",
        "for i in range(n):\n",
        "    c = []\n",
        "    for j in range(n):\n",
        "        c.append(grid[j][i])\n",
        "    model.AddAllDifferent(c)"
      ],
      "execution_count": null,
      "outputs": []
    },
    {
      "cell_type": "code",
      "metadata": {
        "id": "lNdeuxGZ_nHt",
        "outputId": "fe8f7cf1-0d2e-4fc1-bd10-d19afbd52e6d"
      },
      "source": [
        "solver = cp_model.CpSolver()\n",
        "status = solver.Solve(model)\n",
        "if status == cp_model.FEASIBLE:\n",
        "    for i in range(n):\n",
        "        for j in range(n):\n",
        "            print(solver.Value(grid[i][j]),end=\" \")\n",
        "        print()"
      ],
      "execution_count": null,
      "outputs": [
        {
          "output_type": "stream",
          "text": [
            "1 2 3 4 5 \n",
            "2 1 4 5 3 \n",
            "3 4 5 1 2 \n",
            "4 5 2 3 1 \n",
            "5 3 1 2 4 \n"
          ],
          "name": "stdout"
        }
      ]
    },
    {
      "cell_type": "markdown",
      "metadata": {
        "id": "uyToBA_R_nHv"
      },
      "source": [
        "# Ejercicio 3"
      ]
    },
    {
      "cell_type": "code",
      "metadata": {
        "id": "7c5_Cmkk_nHv"
      },
      "source": [
        "model1 = cp_model.CpModel()\n",
        "n = 3\n",
        "grid = []\n",
        "for i in range(n):\n",
        "    row = []\n",
        "    for j in range(n):\n",
        "        row.append(model1.NewIntVar(1,n**2,'x'+str(i)+str(j)))\n",
        "    grid.append(row)\n",
        "\n",
        "gridAux = []\n",
        "for i in range(n):\n",
        "    for j in range(n):\n",
        "        gridAux.append(grid[i][j])\n",
        "\n",
        "model1.AddAllDifferent(gridAux)\n",
        "\n",
        "for i in range(n):\n",
        "    for j in range(n):\n",
        "        model1.Add(sum(grid[i]) == 15 )\n"
      ],
      "execution_count": null,
      "outputs": []
    },
    {
      "cell_type": "code",
      "metadata": {
        "id": "w7DPk2un_nHz",
        "outputId": "db07361b-cbce-4741-a365-77852b40d2f5"
      },
      "source": [
        "solver = cp_model.CpSolver()\n",
        "status = solver.Solve(model1)\n",
        "\n",
        "if status == cp_model.FEASIBLE:\n",
        "    for i in range(n):\n",
        "        for j in range(n):\n",
        "            print(solver.Value(grid[i][j]),end = \" \")\n",
        "        print()\n",
        "    "
      ],
      "execution_count": null,
      "outputs": [
        {
          "output_type": "stream",
          "text": [
            "1 5 9 \n",
            "2 6 7 \n",
            "3 4 8 \n"
          ],
          "name": "stdout"
        }
      ]
    },
    {
      "cell_type": "markdown",
      "metadata": {
        "id": "tnVzkfWS_nH3"
      },
      "source": [
        "# Ejercicio 4"
      ]
    },
    {
      "cell_type": "code",
      "metadata": {
        "id": "u2n01ILs_nH3"
      },
      "source": [
        "#A B C D E F G H I J K\n",
        "#0 1 2 3 4 5 6 7 8 9 10"
      ],
      "execution_count": null,
      "outputs": []
    },
    {
      "cell_type": "code",
      "metadata": {
        "id": "9gG6JvKm_nH5",
        "outputId": "37b0a443-04b5-4ccd-c656-5e119ab5d5bc"
      },
      "source": [
        "model2 = cp_model.CpModel()\n",
        "\n",
        "conferences = [ i for i in range(11)]\n",
        "room = [model2.NewIntVar(0,11,\"room%i\" %(i+1)) for i in range(11)]\n",
        "\n",
        "grup = [[room[conferences[1]],room[conferences[8]],room[conferences[7]],room[conferences[6]]],\n",
        "        [room[conferences[0]],room[conferences[6]],room[conferences[4]]],\n",
        "        [room[conferences[1]],room[conferences[10]]],\n",
        "        [room[conferences[0]],room[conferences[1]],room[conferences[2]],room[conferences[7]]],\n",
        "        [room[conferences[3]],room[conferences[5]],room[conferences[9]]]]\n",
        "\n",
        "for i in range(len(grup)):\n",
        "    model2.AddAllDifferent(grup[i])\n",
        "\n",
        "model2.Add(room[conferences[0]]!=room[conferences[9]])\n",
        "model2.Add(room[conferences[9]]!=room[conferences[8]])\n",
        "model2.Add(room[conferences[2]]!=room[conferences[5]])\n",
        "model2.Add(room[conferences[5]]!=room[conferences[6]])\n",
        "\n",
        "model2.Add(room[conferences[3]]!=room[conferences[7]])\n",
        "model2.Add(room[conferences[1]]!=room[conferences[3]])\n",
        "model2.Add(room[conferences[10]]!=room[conferences[4]])\n",
        "model2.Add(room[conferences[3]]!=room[conferences[7]])\n"
      ],
      "execution_count": null,
      "outputs": [
        {
          "output_type": "execute_result",
          "data": {
            "text/plain": [
              "<ortools.sat.python.cp_model.Constraint at 0x21a3f2f5788>"
            ]
          },
          "metadata": {
            "tags": []
          },
          "execution_count": 5
        }
      ]
    },
    {
      "cell_type": "code",
      "metadata": {
        "id": "ZQGZX-wZ_nH8",
        "outputId": "f34b34a4-686b-419d-bb15-bc29688a398f"
      },
      "source": [
        "solver = cp_model.CpSolver()\n",
        "status = solver.Solve(model2)\n",
        "\n",
        "if status == cp_model.FEASIBLE:\n",
        "    for i in range(11):\n",
        "        print(solver.Value(room[i]), chr(65+i))\n",
        "else:\n",
        "    print(\"not solution\")\n"
      ],
      "execution_count": null,
      "outputs": [
        {
          "output_type": "stream",
          "text": [
            "0 A\n",
            "1 B\n",
            "2 C\n",
            "2 D\n",
            "1 E\n",
            "3 F\n",
            "4 G\n",
            "3 H\n",
            "2 I\n",
            "1 J\n",
            "0 K\n"
          ],
          "name": "stdout"
        }
      ]
    }
  ]
}