{
  "nbformat": 4,
  "nbformat_minor": 0,
  "metadata": {
    "colab": {
      "name": "TopicosSoftConstrains.ipynb",
      "provenance": [],
      "authorship_tag": "ABX9TyNKEnjdCiNWMmQykh8gfEGw",
      "include_colab_link": true
    },
    "kernelspec": {
      "name": "python3",
      "display_name": "Python 3"
    }
  },
  "cells": [
    {
      "cell_type": "markdown",
      "metadata": {
        "id": "view-in-github",
        "colab_type": "text"
      },
      "source": [
        "<a href=\"https://colab.research.google.com/github/AndresPautrat/Topicos_UPC/blob/main/ortools_SoftResctrictions.ipynb\" target=\"_parent\"><img src=\"https://colab.research.google.com/assets/colab-badge.svg\" alt=\"Open In Colab\"/></a>"
      ]
    },
    {
      "cell_type": "code",
      "metadata": {
        "id": "wIX1o8ny25gR",
        "colab": {
          "base_uri": "https://localhost:8080/",
          "height": 363
        },
        "outputId": "e04e0795-5937-44cd-e624-088face58d47"
      },
      "source": [
        "!pip install ortools"
      ],
      "execution_count": null,
      "outputs": [
        {
          "output_type": "stream",
          "text": [
            "Collecting ortools\n",
            "\u001b[?25l  Downloading https://files.pythonhosted.org/packages/1c/d5/c4382df6b6b978971f11287552f5c0acc54ea7bf8ce70a9c77d8a06531b2/ortools-7.6.7691-cp36-cp36m-manylinux1_x86_64.whl (28.9MB)\n",
            "\u001b[K     |████████████████████████████████| 28.9MB 141kB/s \n",
            "\u001b[?25hRequirement already satisfied: six>=1.10 in /usr/local/lib/python3.6/dist-packages (from ortools) (1.12.0)\n",
            "Collecting protobuf>=3.11.2\n",
            "\u001b[?25l  Downloading https://files.pythonhosted.org/packages/57/02/5432412c162989260fab61fa65e0a490c1872739eb91a659896e4d554b26/protobuf-3.11.3-cp36-cp36m-manylinux1_x86_64.whl (1.3MB)\n",
            "\u001b[K     |████████████████████████████████| 1.3MB 45.1MB/s \n",
            "\u001b[?25hRequirement already satisfied: setuptools in /usr/local/lib/python3.6/dist-packages (from protobuf>=3.11.2->ortools) (46.1.3)\n",
            "Installing collected packages: protobuf, ortools\n",
            "  Found existing installation: protobuf 3.10.0\n",
            "    Uninstalling protobuf-3.10.0:\n",
            "      Successfully uninstalled protobuf-3.10.0\n",
            "Successfully installed ortools-7.6.7691 protobuf-3.11.3\n"
          ],
          "name": "stdout"
        },
        {
          "output_type": "display_data",
          "data": {
            "application/vnd.colab-display-data+json": {
              "pip_warning": {
                "packages": [
                  "google"
                ]
              }
            }
          },
          "metadata": {
            "tags": []
          }
        }
      ]
    },
    {
      "cell_type": "code",
      "metadata": {
        "id": "sc4z7beq3KkQ"
      },
      "source": [
        "from ortools.sat.python import cp_model\n",
        "class VarArraySolutionPrinter(cp_model.CpSolverSolutionCallback):\n",
        "    def __init__(self, variables):\n",
        "        cp_model.CpSolverSolutionCallback.__init__(self)\n",
        "        self.__variables = variables\n",
        "        self.__solution_count = 0\n",
        "\n",
        "    def on_solution_callback(self):\n",
        "        self.__solution_count += 1\n",
        "        for v in self.__variables:\n",
        "            print('%s=%i' % (v, self.Value(v)), end=' ')\n",
        "        print()\n",
        "\n",
        "    def solution_count(self):\n",
        "        return self.__solution_count\n",
        "        solution_printer = VarArraySolutionPrinter([x,y,z])"
      ],
      "execution_count": null,
      "outputs": []
    },
    {
      "cell_type": "code",
      "metadata": {
        "id": "HL9-tTQ23TIF",
        "colab": {
          "base_uri": "https://localhost:8080/",
          "height": 54
        },
        "outputId": "fd0c8870-09ee-46a7-8255-5147aa9b5999"
      },
      "source": [
        "def generarSoluciones(valorSuma,minA,maxB,maxCosto):\n",
        "  model = cp_model.CpModel()\n",
        "  #variables\n",
        "  a = model.NewIntVar(0,10,\"a\")\n",
        "  b = model.NewIntVar(0,10,\"b\")\n",
        "  #constraints\n",
        "  ##hard : duras - estrictas\n",
        "  model.Add(a + b == valorSuma)\n",
        "  model.Add(b <= maxB)\n",
        "  ##soft : suaves - flexibles\n",
        "  #model.Add(a > minA)\n",
        "  ##disjunctive relaxation\n",
        "  ##=> (c == a > minA) \n",
        "  ##=> c' == [(c and z == 0) or (not c and z > 0)]\n",
        "  ##=> c' == max(0,minA - a)\n",
        "  z = model.NewIntVar(-10,10,\"z\")\n",
        "  tmp = model.NewIntVar(-10,10,\"z\")\n",
        "  model.Add(tmp == minA - a)\n",
        "  model.AddMaxEquality(z,[0,tmp])\n",
        "  model.Add(z <= maxCosto)\n",
        "  #solver\n",
        "  solver = cp_model.CpSolver()\n",
        "  solution_printer = VarArraySolutionPrinter([a,b,z])\n",
        "  solver.SearchForAllSolutions(model, solution_printer)\n",
        "  print(solution_printer.solution_count(),\"Solutions\")\n",
        "\n",
        "generarSoluciones(15,6,5,10)"
      ],
      "execution_count": null,
      "outputs": [
        {
          "output_type": "stream",
          "text": [
            "a=10 b=5 z=0 \n",
            "1 Solutions\n"
          ],
          "name": "stdout"
        }
      ]
    },
    {
      "cell_type": "code",
      "metadata": {
        "id": "5m76pbJC3kl0",
        "colab": {
          "base_uri": "https://localhost:8080/",
          "height": 145
        },
        "outputId": "367e0116-6806-4e33-9bb0-39118a96b57f"
      },
      "source": [
        "\n",
        "def generarSoluciones(valorSuma,minA,maxB,maxCosto):\n",
        "  model = cp_model.CpModel()\n",
        "  #variables\n",
        "  a = model.NewIntVar(0,10,\"a\")\n",
        "  b = model.NewIntVar(0,10,\"b\")\n",
        "  #constraints\n",
        "  ##hard : duras - estrictas\n",
        "  model.Add(a + b == valorSuma)\n",
        "  \n",
        "  ##soft : suaves - flexibles\n",
        "  #model.Add(a > minA)\n",
        "  ##disjunctive relaxation\n",
        "  ##=> (c == a > minA) \n",
        "  ##=> c' == [(c and z == 0) or (not c and z > 0)]\n",
        "  ##=> c' == max(0,minA - a)\n",
        "  z = [model.NewIntVar(-10,10,\"z\"+str(i)) for i in range(2)]\n",
        "\n",
        "  tmp1 = model.NewIntVar(-10,10,\"t1\")\n",
        "  model.Add(tmp1 == minA - a)\n",
        "  model.AddMaxEquality(z[0],[0,tmp1])\n",
        "  #model.Add(z <= maxCosto)\n",
        "\n",
        "  #model.Add(b <= maxB)\n",
        "  ##soft => (c == b <= maxB)   \n",
        "  ##=> c' == [(c and z == 0) or (not c and z > 0)]\n",
        "  ##=> c' == max(0,b - maxB)\n",
        "  tmp2 = model.NewIntVar(-10,10,\"t2\")\n",
        "  model.Add(tmp2 == b - maxB)\n",
        "  model.AddMaxEquality(z[1],[0,tmp2])\n",
        "  #model.Add(z <= maxCosto)\n",
        "  \n",
        "  model.Add(sum(z) <= maxCosto)\n",
        "\n",
        "  #solver\n",
        "  solver = cp_model.CpSolver()\n",
        "  solution_printer = VarArraySolutionPrinter([a,b] + z)\n",
        "  solver.SearchForAllSolutions(model, solution_printer)\n",
        "  print(solution_printer.solution_count(),\"Solutions\")\n",
        "\n",
        "##a in [0..10]\n",
        "##b in [0..10]\n",
        "##a + b == 15\n",
        "##a >= 6\n",
        "##b <= 4\n",
        "generarSoluciones(15,6,4,10)"
      ],
      "execution_count": null,
      "outputs": [
        {
          "output_type": "stream",
          "text": [
            "a=5 b=10 z0=1 z1=6 \n",
            "a=10 b=5 z0=0 z1=1 \n",
            "a=8 b=7 z0=0 z1=3 \n",
            "a=7 b=8 z0=0 z1=4 \n",
            "a=6 b=9 z0=0 z1=5 \n",
            "a=9 b=6 z0=0 z1=2 \n",
            "6 Solutions\n"
          ],
          "name": "stdout"
        }
      ]
    },
    {
      "cell_type": "code",
      "metadata": {
        "id": "U8TKEimvCbRN"
      },
      "source": [
        ""
      ],
      "execution_count": null,
      "outputs": []
    }
  ]
}