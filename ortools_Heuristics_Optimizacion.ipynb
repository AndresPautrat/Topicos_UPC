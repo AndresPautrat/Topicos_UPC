{
  "nbformat": 4,
  "nbformat_minor": 0,
  "metadata": {
    "colab": {
      "name": "Topicos_CSP_Heuristics.ipynb",
      "provenance": [],
      "include_colab_link": true
    },
    "kernelspec": {
      "name": "python3",
      "display_name": "Python 3"
    }
  },
  "cells": [
    {
      "cell_type": "markdown",
      "metadata": {
        "id": "view-in-github",
        "colab_type": "text"
      },
      "source": [
        "<a href=\"https://colab.research.google.com/github/AndresPautrat/Topicos_UPC/blob/main/ortools_Heuristics_Optimizacion.ipynb\" target=\"_parent\"><img src=\"https://colab.research.google.com/assets/colab-badge.svg\" alt=\"Open In Colab\"/></a>"
      ]
    },
    {
      "cell_type": "code",
      "metadata": {
        "id": "MktmgSnMoTLp",
        "colab": {
          "base_uri": "https://localhost:8080/",
          "height": 355
        },
        "outputId": "2d52bde3-c547-465c-c417-b3738eb77441"
      },
      "source": [
        "pip install ortools"
      ],
      "execution_count": null,
      "outputs": [
        {
          "output_type": "stream",
          "text": [
            "Collecting ortools\n",
            "\u001b[?25l  Downloading https://files.pythonhosted.org/packages/1c/d5/c4382df6b6b978971f11287552f5c0acc54ea7bf8ce70a9c77d8a06531b2/ortools-7.6.7691-cp36-cp36m-manylinux1_x86_64.whl (28.9MB)\n",
            "\u001b[K     |████████████████████████████████| 28.9MB 142kB/s \n",
            "\u001b[?25hRequirement already satisfied: six>=1.10 in /usr/local/lib/python3.6/dist-packages (from ortools) (1.12.0)\n",
            "Collecting protobuf>=3.11.2\n",
            "\u001b[?25l  Downloading https://files.pythonhosted.org/packages/57/02/5432412c162989260fab61fa65e0a490c1872739eb91a659896e4d554b26/protobuf-3.11.3-cp36-cp36m-manylinux1_x86_64.whl (1.3MB)\n",
            "\u001b[K     |████████████████████████████████| 1.3MB 47.1MB/s \n",
            "\u001b[?25hRequirement already satisfied: setuptools in /usr/local/lib/python3.6/dist-packages (from protobuf>=3.11.2->ortools) (46.1.3)\n",
            "Installing collected packages: protobuf, ortools\n",
            "  Found existing installation: protobuf 3.10.0\n",
            "    Uninstalling protobuf-3.10.0:\n",
            "      Successfully uninstalled protobuf-3.10.0\n",
            "Successfully installed ortools-7.6.7691 protobuf-3.11.3\n"
          ],
          "name": "stdout"
        },
        {
          "output_type": "display_data",
          "data": {
            "application/vnd.colab-display-data+json": {
              "pip_warning": {
                "packages": [
                  "google"
                ]
              }
            }
          },
          "metadata": {
            "tags": []
          }
        }
      ]
    },
    {
      "cell_type": "code",
      "metadata": {
        "id": "XTXjLq6foaa8"
      },
      "source": [
        "from ortools.sat.python import cp_model"
      ],
      "execution_count": null,
      "outputs": []
    },
    {
      "cell_type": "code",
      "metadata": {
        "id": "O2wVC4Cfoevn",
        "colab": {
          "base_uri": "https://localhost:8080/",
          "height": 136
        },
        "outputId": "bb8a2a4b-fdff-4433-ab46-7dd033e665e4"
      },
      "source": [
        "class VarArraySolutionPrinter(cp_model.CpSolverSolutionCallback):\n",
        "\n",
        "\n",
        "    def __init__(self, variables):\n",
        "        cp_model.CpSolverSolutionCallback.__init__(self)\n",
        "        self.__variables = variables\n",
        "        self.__solution_count = 0\n",
        "\n",
        "    def on_solution_callback(self):\n",
        "        self.__solution_count += 1\n",
        "        for v in self.__variables:\n",
        "            print('%s=%i' % (v, self.Value(v)), end=' ')\n",
        "        print()\n",
        "\n",
        "    def solution_count(self):\n",
        "        return self.__solution_count\n",
        "\n",
        "model = cp_model.CpModel()\n",
        "\n",
        "x = model.NewIntVar(0,3,'x')\n",
        "y = model.NewIntVar(0,3,'y')\n",
        "z = model.NewIntVar(0,3,'z')\n",
        "\n",
        "model.Add(x < y)\n",
        "model.Add(y == z + 1)\n",
        "\n",
        "solver = cp_model.CpSolver()\n",
        "solution_printer = VarArraySolutionPrinter([x,y,z])\n",
        "\n",
        "solver.SearchForAllSolutions(model,solution_printer)\n",
        "\n",
        "print(\"# Solutions: \", solution_printer.solution_count())\n"
      ],
      "execution_count": null,
      "outputs": [
        {
          "output_type": "stream",
          "text": [
            "x=0 y=1 z=0 \n",
            "x=0 y=3 z=2 \n",
            "x=1 y=3 z=2 \n",
            "x=2 y=3 z=2 \n",
            "x=0 y=2 z=1 \n",
            "x=1 y=2 z=1 \n",
            "# Solutions:  6\n"
          ],
          "name": "stdout"
        }
      ]
    },
    {
      "cell_type": "code",
      "metadata": {
        "id": "0j4e0QC7spg-",
        "colab": {
          "base_uri": "https://localhost:8080/",
          "height": 68
        },
        "outputId": "b9d6b957-a8ad-4c1b-b7bf-23227a219bc8"
      },
      "source": [
        "model2 = cp_model.CpModel()\n",
        "\n",
        "a = model2.NewIntVar(0,10,'a')\n",
        "b = model2.NewIntVar(0,10,'b')\n",
        "c = model2.NewIntVar(0,10,'c')\n",
        "\n",
        "#constrains\n",
        "model2.AddAllDifferent([a,b,c])\n",
        "model2.Add(a < b)\n",
        "model2.Add(c>b)\n",
        "#optimizatiion\n",
        "model2.Maximize(a + b)\n",
        "\n",
        "model2.AddDecisionStrategy([a,b,c],cp_model.CHOOSE_FIRST,cp_model.SELECT_MAX_VALUE)\n",
        "\n",
        "#solver\n",
        "solver2 = cp_model.CpSolver()\n",
        "status2 = solver2.Solve(model2)\n",
        "\n",
        "print(solver2.StatusName(status2))\n",
        "print(solver2.ObjectiveValue())\n",
        "print(solver2.Value(a),solver2.Value(b),solver2.Value(c))\n",
        "\n"
      ],
      "execution_count": null,
      "outputs": [
        {
          "output_type": "stream",
          "text": [
            "OPTIMAL\n",
            "17.0\n",
            "8 9 10\n"
          ],
          "name": "stdout"
        }
      ]
    },
    {
      "cell_type": "code",
      "metadata": {
        "id": "KPfm444vwui9",
        "colab": {
          "base_uri": "https://localhost:8080/",
          "height": 34
        },
        "outputId": "53e43423-6e2e-42aa-c746-f6a880bb0860"
      },
      "source": [
        "from random import *\n",
        "def generarGrafo(n,m):\n",
        "  g = [[] for i in range(n)]\n",
        "  for i in range(m):\n",
        "    v1 = randint(0,n-1)\n",
        "    v2 = randint(0,n-1)    \n",
        "    while v2 in g[v1] or v1 == v2:\n",
        "      v1 = randint(0,n-1)\n",
        "      v2 = randint(0,n-1)\n",
        "    g[v1] += [v2]\n",
        "  return g\n",
        "g = generarGrafo(5,10)\n",
        "print(g)"
      ],
      "execution_count": null,
      "outputs": [
        {
          "output_type": "stream",
          "text": [
            "[[3, 2], [4, 2, 3], [4], [1, 0, 4], [0]]\n"
          ],
          "name": "stdout"
        }
      ]
    },
    {
      "cell_type": "code",
      "metadata": {
        "id": "16b0dnrRxP8X",
        "colab": {
          "base_uri": "https://localhost:8080/",
          "height": 119
        },
        "outputId": "b35a6154-45cd-4cc4-ce1d-a195f7b3c791"
      },
      "source": [
        "numeroColores = 5\n",
        "\n",
        "model4 = cp_model.CpModel()\n",
        "\n",
        "#variables and domains\n",
        "\n",
        "usedcolor = []\n",
        "for i in range(len(g)):\n",
        "  fila = []\n",
        "  for j in range(numeroColores):\n",
        "    fila+=[model4.NewBoolVar(\"usedcolor\"+ str(i)+ str(j))]\n",
        "  usedcolor+=[fila]\n",
        "\n",
        "\n",
        "color = []\n",
        "for i in range(len(g)):\n",
        "  color += [model4.NewIntVar(1, numeroColores, \"color\"+str(i))]\n",
        "  for j in range(numeroColores):\n",
        "    model4.Add(color[i] == j+1).OnlyEnforceIf(usedcolor[i][j])\n",
        "    model4.Add(color[i] != j+1).OnlyEnforceIf(usedcolor[i][j].Not())\n",
        "\n",
        "\n",
        "\n",
        "\n",
        "\n",
        "#constraints\n",
        "for v1 in range(len(g)):\n",
        "  for v2 in g[v1]:\n",
        "    model4.Add(color[v1] != color[v2])\n",
        "solver4 = cp_model.CpSolver()\n",
        "status4 = solver4.Solve(model4)\n",
        "if status4 == cp_model.FEASIBLE:\n",
        "  for v1 in range(len(g)):\n",
        "    print(\"Nodo\",v1,\"de color\",solver4.Value(color[v1]))\n",
        "  for i in range(5):\n",
        "    for j in range(2):\n",
        "      print( solver4.Value(usedcolor[i][j]), end = \"\")\n",
        "  print(\" \")\n"
      ],
      "execution_count": null,
      "outputs": [
        {
          "output_type": "stream",
          "text": [
            "Nodo 0 de color 1\n",
            "Nodo 1 de color 1\n",
            "Nodo 2 de color 3\n",
            "Nodo 3 de color 3\n",
            "Nodo 4 de color 2\n",
            "1 0 1 0 0 0 0 0 0 1  \n"
          ],
          "name": "stdout"
        }
      ]
    }
  ]
}